{
  "nbformat": 4,
  "nbformat_minor": 0,
  "metadata": {
    "colab": {
      "provenance": [],
      "authorship_tag": "ABX9TyPYBepoS0AotGUoSwTnM+5a",
      "include_colab_link": true
    },
    "kernelspec": {
      "name": "python3",
      "display_name": "Python 3"
    },
    "language_info": {
      "name": "python"
    }
  },
  "cells": [
    {
      "cell_type": "markdown",
      "metadata": {
        "id": "view-in-github",
        "colab_type": "text"
      },
      "source": [
        "<a href=\"https://colab.research.google.com/github/akanksharaut21/Firstlab_ML_AKANKSHARAUT/blob/main/PROJECT_MODULE_2.ipynb\" target=\"_parent\"><img src=\"https://colab.research.google.com/assets/colab-badge.svg\" alt=\"Open In Colab\"/></a>"
      ]
    },
    {
      "cell_type": "markdown",
      "source": [
        "## **Akanksha Raut's Second Module Project**"
      ],
      "metadata": {
        "id": "xvTHnAJS59q0"
      }
    },
    {
      "cell_type": "code",
      "metadata": {
        "id": "A2OHuH6nnRD_"
      },
      "source": [
        "from google.colab import files"
      ],
      "execution_count": 1,
      "outputs": []
    },
    {
      "cell_type": "code",
      "source": [
        "# Upload Module2_ProjectFiles.zip file here by running this cell\n",
        "\n",
        "uploaded = files.upload()\n",
        "loc_ = list(uploaded.keys())[0]\n",
        "!unzip -q {loc_}"
      ],
      "metadata": {
        "colab": {
          "base_uri": "https://localhost:8080/",
          "height": 38
        },
        "id": "W7D95iElWxS_",
        "outputId": "d61958d4-7c98-4660-de25-96f5c3da0987"
      },
      "execution_count": null,
      "outputs": [
        {
          "output_type": "display_data",
          "data": {
            "text/plain": [
              "<IPython.core.display.HTML object>"
            ],
            "text/html": [
              "\n",
              "     <input type=\"file\" id=\"files-aebbabe8-02d8-43a8-b039-8989467eac89\" name=\"files[]\" multiple disabled\n",
              "        style=\"border:none\" />\n",
              "     <output id=\"result-aebbabe8-02d8-43a8-b039-8989467eac89\">\n",
              "      Upload widget is only available when the cell has been executed in the\n",
              "      current browser session. Please rerun this cell to enable.\n",
              "      </output>\n",
              "      <script>// Copyright 2017 Google LLC\n",
              "//\n",
              "// Licensed under the Apache License, Version 2.0 (the \"License\");\n",
              "// you may not use this file except in compliance with the License.\n",
              "// You may obtain a copy of the License at\n",
              "//\n",
              "//      http://www.apache.org/licenses/LICENSE-2.0\n",
              "//\n",
              "// Unless required by applicable law or agreed to in writing, software\n",
              "// distributed under the License is distributed on an \"AS IS\" BASIS,\n",
              "// WITHOUT WARRANTIES OR CONDITIONS OF ANY KIND, either express or implied.\n",
              "// See the License for the specific language governing permissions and\n",
              "// limitations under the License.\n",
              "\n",
              "/**\n",
              " * @fileoverview Helpers for google.colab Python module.\n",
              " */\n",
              "(function(scope) {\n",
              "function span(text, styleAttributes = {}) {\n",
              "  const element = document.createElement('span');\n",
              "  element.textContent = text;\n",
              "  for (const key of Object.keys(styleAttributes)) {\n",
              "    element.style[key] = styleAttributes[key];\n",
              "  }\n",
              "  return element;\n",
              "}\n",
              "\n",
              "// Max number of bytes which will be uploaded at a time.\n",
              "const MAX_PAYLOAD_SIZE = 100 * 1024;\n",
              "\n",
              "function _uploadFiles(inputId, outputId) {\n",
              "  const steps = uploadFilesStep(inputId, outputId);\n",
              "  const outputElement = document.getElementById(outputId);\n",
              "  // Cache steps on the outputElement to make it available for the next call\n",
              "  // to uploadFilesContinue from Python.\n",
              "  outputElement.steps = steps;\n",
              "\n",
              "  return _uploadFilesContinue(outputId);\n",
              "}\n",
              "\n",
              "// This is roughly an async generator (not supported in the browser yet),\n",
              "// where there are multiple asynchronous steps and the Python side is going\n",
              "// to poll for completion of each step.\n",
              "// This uses a Promise to block the python side on completion of each step,\n",
              "// then passes the result of the previous step as the input to the next step.\n",
              "function _uploadFilesContinue(outputId) {\n",
              "  const outputElement = document.getElementById(outputId);\n",
              "  const steps = outputElement.steps;\n",
              "\n",
              "  const next = steps.next(outputElement.lastPromiseValue);\n",
              "  return Promise.resolve(next.value.promise).then((value) => {\n",
              "    // Cache the last promise value to make it available to the next\n",
              "    // step of the generator.\n",
              "    outputElement.lastPromiseValue = value;\n",
              "    return next.value.response;\n",
              "  });\n",
              "}\n",
              "\n",
              "/**\n",
              " * Generator function which is called between each async step of the upload\n",
              " * process.\n",
              " * @param {string} inputId Element ID of the input file picker element.\n",
              " * @param {string} outputId Element ID of the output display.\n",
              " * @return {!Iterable<!Object>} Iterable of next steps.\n",
              " */\n",
              "function* uploadFilesStep(inputId, outputId) {\n",
              "  const inputElement = document.getElementById(inputId);\n",
              "  inputElement.disabled = false;\n",
              "\n",
              "  const outputElement = document.getElementById(outputId);\n",
              "  outputElement.innerHTML = '';\n",
              "\n",
              "  const pickedPromise = new Promise((resolve) => {\n",
              "    inputElement.addEventListener('change', (e) => {\n",
              "      resolve(e.target.files);\n",
              "    });\n",
              "  });\n",
              "\n",
              "  const cancel = document.createElement('button');\n",
              "  inputElement.parentElement.appendChild(cancel);\n",
              "  cancel.textContent = 'Cancel upload';\n",
              "  const cancelPromise = new Promise((resolve) => {\n",
              "    cancel.onclick = () => {\n",
              "      resolve(null);\n",
              "    };\n",
              "  });\n",
              "\n",
              "  // Wait for the user to pick the files.\n",
              "  const files = yield {\n",
              "    promise: Promise.race([pickedPromise, cancelPromise]),\n",
              "    response: {\n",
              "      action: 'starting',\n",
              "    }\n",
              "  };\n",
              "\n",
              "  cancel.remove();\n",
              "\n",
              "  // Disable the input element since further picks are not allowed.\n",
              "  inputElement.disabled = true;\n",
              "\n",
              "  if (!files) {\n",
              "    return {\n",
              "      response: {\n",
              "        action: 'complete',\n",
              "      }\n",
              "    };\n",
              "  }\n",
              "\n",
              "  for (const file of files) {\n",
              "    const li = document.createElement('li');\n",
              "    li.append(span(file.name, {fontWeight: 'bold'}));\n",
              "    li.append(span(\n",
              "        `(${file.type || 'n/a'}) - ${file.size} bytes, ` +\n",
              "        `last modified: ${\n",
              "            file.lastModifiedDate ? file.lastModifiedDate.toLocaleDateString() :\n",
              "                                    'n/a'} - `));\n",
              "    const percent = span('0% done');\n",
              "    li.appendChild(percent);\n",
              "\n",
              "    outputElement.appendChild(li);\n",
              "\n",
              "    const fileDataPromise = new Promise((resolve) => {\n",
              "      const reader = new FileReader();\n",
              "      reader.onload = (e) => {\n",
              "        resolve(e.target.result);\n",
              "      };\n",
              "      reader.readAsArrayBuffer(file);\n",
              "    });\n",
              "    // Wait for the data to be ready.\n",
              "    let fileData = yield {\n",
              "      promise: fileDataPromise,\n",
              "      response: {\n",
              "        action: 'continue',\n",
              "      }\n",
              "    };\n",
              "\n",
              "    // Use a chunked sending to avoid message size limits. See b/62115660.\n",
              "    let position = 0;\n",
              "    do {\n",
              "      const length = Math.min(fileData.byteLength - position, MAX_PAYLOAD_SIZE);\n",
              "      const chunk = new Uint8Array(fileData, position, length);\n",
              "      position += length;\n",
              "\n",
              "      const base64 = btoa(String.fromCharCode.apply(null, chunk));\n",
              "      yield {\n",
              "        response: {\n",
              "          action: 'append',\n",
              "          file: file.name,\n",
              "          data: base64,\n",
              "        },\n",
              "      };\n",
              "\n",
              "      let percentDone = fileData.byteLength === 0 ?\n",
              "          100 :\n",
              "          Math.round((position / fileData.byteLength) * 100);\n",
              "      percent.textContent = `${percentDone}% done`;\n",
              "\n",
              "    } while (position < fileData.byteLength);\n",
              "  }\n",
              "\n",
              "  // All done.\n",
              "  yield {\n",
              "    response: {\n",
              "      action: 'complete',\n",
              "    }\n",
              "  };\n",
              "}\n",
              "\n",
              "scope.google = scope.google || {};\n",
              "scope.google.colab = scope.google.colab || {};\n",
              "scope.google.colab._files = {\n",
              "  _uploadFiles,\n",
              "  _uploadFilesContinue,\n",
              "};\n",
              "})(self);\n",
              "</script> "
            ]
          },
          "metadata": {}
        }
      ]
    },
    {
      "cell_type": "code",
      "metadata": {
        "id": "eZqOz_ZDoBBz"
      },
      "source": [
        "!pip3 -q install biopython\n",
        "\n",
        "import pandas as pd\n",
        "import numpy as np\n",
        "from Bio import SeqIO\n",
        "from tqdm.autonotebook import tqdm"
      ],
      "execution_count": null,
      "outputs": []
    },
    {
      "cell_type": "code",
      "metadata": {
        "id": "fb2dcglpoBIs"
      },
      "source": [
        "data = pd.read_csv(\"INDIA_685.csv\")\n",
        "data.tail()"
      ],
      "execution_count": null,
      "outputs": []
    },
    {
      "cell_type": "code",
      "metadata": {
        "id": "CXBttf4aoBLy"
      },
      "source": [
        "fasta_sequences = SeqIO.parse(open(\"sequences.fasta\"),'fasta')\n",
        "\n",
        "counter = 0\n",
        "for fasta in fasta_sequences:\n",
        "    counter +=1\n",
        "\n",
        "print(\"Number of sequences is:\", counter)"
      ],
      "execution_count": null,
      "outputs": []
    },
    {
      "cell_type": "code",
      "metadata": {
        "id": "sddXsg9QoFIr"
      },
      "source": [
        "def calc_score(examplesequence):\n",
        "\n",
        "    position = 0\n",
        "    score = 0\n",
        "    value = 0\n",
        "    flag = 0\n",
        "\n",
        "    for base in examplesequence:\n",
        "\n",
        "        if(base == \"A\" or base == \"a\"):\n",
        "            value = 0\n",
        "        elif(base == \"G\" or base == \"g\"):\n",
        "            value = 1\n",
        "        elif(base == \"T\" or base == \"t\"):\n",
        "            value = 2\n",
        "        elif(base == \"C\" or base == \"c\"):\n",
        "            value = 3\n",
        "        else:\n",
        "            flag=1\n",
        "\n",
        "        score += (4 ** position)* value\n",
        "        position+=1\n",
        "\n",
        "    return (flag,score)\n",
        "\n",
        "calc_score(\"ATAGTAG\")"
      ],
      "execution_count": null,
      "outputs": []
    },
    {
      "cell_type": "code",
      "metadata": {
        "id": "IfZYG8IxoFLZ"
      },
      "source": [
        "k=7\n",
        "big_matrix = []\n",
        "sequences_name = []\n",
        "\n",
        "fasta_sequences = SeqIO.parse(open(\"sequences.fasta\"),'fasta')\n",
        "\n",
        "for fasta in tqdm(fasta_sequences):\n",
        "\n",
        "    embedding = np.zeros(4**k, dtype=int)\n",
        "    sequence = str(fasta.seq)\n",
        "    sequence_name = fasta.id\n",
        "    sequences_name.append(sequence_name)\n",
        "\n",
        "    for j in range(len(sequence)-k+1):\n",
        "        kmer = sequence[j:j+k]\n",
        "        flag,score = calc_score(kmer)\n",
        "        if(flag!=1):\n",
        "            embedding[score]+=1\n",
        "\n",
        "    embedding = embedding.tolist()\n",
        "    big_matrix.append(embedding)"
      ],
      "execution_count": null,
      "outputs": []
    },
    {
      "cell_type": "code",
      "metadata": {
        "id": "ny9at6TVoFN6"
      },
      "source": [
        "print(\"Number of sequences:\", len(sequences_name))\n",
        "print(\"Number of features for each sequence:\", len(big_matrix[0]))"
      ],
      "execution_count": null,
      "outputs": []
    },
    {
      "cell_type": "code",
      "metadata": {
        "id": "k6XZ2uOtodUe"
      },
      "source": [
        "from sklearn.decomposition import PCA\n",
        "\n",
        "pca = PCA() # create a PCA object\n",
        "pca.fit(big_matrix) # do the math\n",
        "pca_data = pca.transform(big_matrix) # get PCA coordinates for the matrix"
      ],
      "execution_count": null,
      "outputs": []
    },
    {
      "cell_type": "code",
      "metadata": {
        "id": "UHbpD3-oodXA"
      },
      "source": [
        "import matplotlib.pyplot as plt\n",
        "\n",
        "per_var = np.round(pca.explained_variance_ratio_* 100, decimals=1)\n",
        "labels_all = ['PC'+str(x) for x in range(1, len(per_var)+1)]\n",
        "per_var=per_var[:10]\n",
        "labels = [str(x) for x in range(1, len(per_var)+1)]\n",
        "\n",
        "with plt.style.context('dark_background'):\n",
        "    plt.figure(figsize = (15, 9))\n",
        "    plt.xlabel(\"Number of Principal Components\")\n",
        "    plt.ylabel(\"Percentage of variance explained\")\n",
        "    plt.bar(range(1,len(per_var)+1), per_var, tick_label=labels, color = \"aqua\")\n",
        "    plt.plot(range(1,len(per_var)+1), np.cumsum(per_var), color = \"red\")\n",
        "    plt.scatter(range(1,len(per_var)+1), np.cumsum(per_var), color = \"yellow\")"
      ],
      "execution_count": null,
      "outputs": []
    },
    {
      "cell_type": "code",
      "metadata": {
        "id": "NunbP88XodZ0"
      },
      "source": [
        "final_df = pd.DataFrame(columns=[\"StrainID\", \"PC1\", \"PC2\", \"PC3\", \"State\"])\n",
        "pca_df = pd.DataFrame(pca_data, index=[*sequences_name], columns = labels_all)\n",
        "\n",
        "for sample in pca_df.index:\n",
        "\n",
        "    dicti = dict()\n",
        "\n",
        "    dicti[\"StrainID\"] = sample\n",
        "    dicti[\"PC1\"] = pca_df.PC1.loc[sample]\n",
        "    dicti[\"PC2\"] = pca_df.PC2.loc[sample]\n",
        "    dicti[\"PC3\"] = pca_df.PC3.loc[sample]\n",
        "    dicti[\"State\"] = data[data[\"StrainID\"]==sample][\"State\"].tolist()[0]\n",
        "\n",
        "    final_df = pd.concat([final_df, pd.DataFrame([dicti])], ignore_index=True)\n",
        "\n",
        "final_df.head()"
      ],
      "execution_count": null,
      "outputs": []
    },
    {
      "cell_type": "code",
      "metadata": {
        "id": "rzUxyucCosjg"
      },
      "source": [
        "import plotly.graph_objs as go\n",
        "import plotly.express as px"
      ],
      "execution_count": null,
      "outputs": []
    },
    {
      "cell_type": "code",
      "metadata": {
        "id": "PIwDqixTosm9"
      },
      "source": [
        "for_x = final_df.PC1.tolist()\n",
        "for_y = final_df.PC2.tolist()\n",
        "for_states = final_df.State.tolist()\n",
        "for_hover = final_df.StrainID.tolist()\n",
        "\n",
        "fig = px.scatter(x=for_x, y=for_y, color=for_states, title=\"Principal Component Axis\",\n",
        "                color_discrete_map={\n",
        "                \"Stateless\": \"grey\",\n",
        "                \"Tamil Nadu\": \"green\",\n",
        "                \"Telangana\": \"red\",\n",
        "                \"Maharashtra\": \"orange\",\n",
        "                \"Gujarat\": \"magenta\",\n",
        "                \"Delhi\": \"purple\",\n",
        "                \"West Bengal\": \"aqua\",\n",
        "                \"Haryana\": \"pink\",\n",
        "                \"Odisha\": \"blue\",\n",
        "                \"Madhya Pradesh\": \"brown\",\n",
        "                \"Karnataka\": \"black\"\n",
        "                })\n",
        "\n",
        "fig.show(renderer = \"colab\")"
      ],
      "execution_count": null,
      "outputs": []
    },
    {
      "cell_type": "code",
      "metadata": {
        "id": "ZAvrdGToosqU"
      },
      "source": [
        "from sklearn.manifold import TSNE\n",
        "\n",
        "# Use these parameters\n",
        "random_state = 0\n",
        "n_components = 2\n",
        "perplexity = 30\n",
        "n_iter = 10000\n",
        "\n",
        "####### Enter code below #######\n",
        "\n",
        "model = TSNE(n_components=2, random_state=random_state, perplexity=perplexity, n_iter=n_iter)\n",
        "tsne_data = model.fit_transform(np.array(big_matrix))\n",
        "\n",
        "################################"
      ],
      "execution_count": null,
      "outputs": []
    },
    {
      "cell_type": "code",
      "metadata": {
        "id": "2LlFxnf4pEZG"
      },
      "source": [
        "final_df = pd.DataFrame(columns=[\"StrainID\", \"X\", \"Y\", \"State\"])\n",
        "pca_df = pd.DataFrame(pca_data, index=[*sequences_name], columns = labels_all)\n",
        "\n",
        "i = 0\n",
        "for sample in pca_df.index:\n",
        "\n",
        "    dicti = dict()\n",
        "\n",
        "    dicti[\"StrainID\"] = sample\n",
        "    dicti[\"X\"] = tsne_data[i][0]\n",
        "    dicti[\"Y\"] = tsne_data[i][1]\n",
        "    dicti[\"State\"] = data[data[\"StrainID\"]==sample][\"State\"].tolist()[0]\n",
        "\n",
        "    final_df = pd.concat([final_df, pd.DataFrame([dicti])], ignore_index=True)\n",
        "    i+=1\n",
        "\n",
        "final_df.tail()"
      ],
      "execution_count": null,
      "outputs": []
    },
    {
      "cell_type": "code",
      "metadata": {
        "id": "us4Joar_pEcB"
      },
      "source": [
        "for_x = final_df.X.tolist()\n",
        "for_y = final_df.Y.tolist()\n",
        "for_states = final_df.State.tolist()\n",
        "for_hover = final_df.StrainID.tolist()\n",
        "\n",
        "fig = px.scatter(x=for_x, y=for_y, color=for_states, title=\"t-SNE\", height=600, width=1000,\n",
        "                color_discrete_map={\n",
        "                \"Stateless\": \"grey\",\n",
        "                \"Tamil Nadu\": \"green\",\n",
        "                \"Telangana\": \"red\",\n",
        "                \"Maharashtra\": \"orange\",\n",
        "                \"Gujarat\": \"magenta\",\n",
        "                \"Delhi\": \"purple\",\n",
        "                \"West Bengal\": \"aqua\",\n",
        "                \"Haryana\": \"pink\",\n",
        "                \"Odisha\": \"blue\",\n",
        "                \"Madhya Pradesh\": \"brown\",\n",
        "                \"Karnataka\": \"black\"})\n",
        "\n",
        "fig.show(renderer = 'colab')"
      ],
      "execution_count": null,
      "outputs": []
    },
    {
      "cell_type": "code",
      "metadata": {
        "id": "zrbWFyL2pEed"
      },
      "source": [
        "## First we need to get the list of all unique mutations observed in our dataset.\n",
        "\n",
        "mutations = []\n",
        "for i in range(len(data)):\n",
        "\n",
        "    sample_muts = data[\"Nuc_muts\"][i][1:][:-1].split(\",\")\n",
        "\n",
        "    for j in sample_muts:\n",
        "        mut = j.strip()[1:][:-1]\n",
        "        if(len(mut)>=2):\n",
        "            if(mut not in mutations):\n",
        "                mutations.append(mut)\n",
        "\n",
        "print(len(mutations))"
      ],
      "execution_count": null,
      "outputs": []
    },
    {
      "cell_type": "code",
      "metadata": {
        "id": "uR3nnmgMpEhu"
      },
      "source": [
        "samplelist = data[\"StrainID\"].tolist()\n",
        "df = pd.DataFrame(columns = [*samplelist])\n",
        "df = df.replace(np.nan,0)\n",
        "\n",
        "for mutation in mutations:\n",
        "\n",
        "    dicti = dict(zip(samplelist, np.zeros(len(samplelist), dtype=int)))\n",
        "\n",
        "    for i in range(len(data)):\n",
        "        flag=0\n",
        "        strainid = data[\"StrainID\"][i]\n",
        "        sample_muts = data[\"Nuc_muts\"][i][1:][:-1].split(\",\")\n",
        "\n",
        "        for j in sample_muts:\n",
        "            mut = j.strip()[1:][:-1]\n",
        "            if(len(mut)>=2):\n",
        "                if(mut == mutation):\n",
        "                    flag = 1\n",
        "                    break\n",
        "\n",
        "        dicti[strainid]=flag\n",
        "\n",
        "    df = pd.concat([df, pd.DataFrame([dicti])], ignore_index=True)\n",
        "\n",
        "df = df.T\n",
        "\n",
        "df.tail()"
      ],
      "execution_count": null,
      "outputs": []
    },
    {
      "cell_type": "code",
      "metadata": {
        "id": "64svk1wEpjYC"
      },
      "source": [
        "pca = PCA()\n",
        "pca.fit(df)\n",
        "pca_data = pca.transform(df)"
      ],
      "execution_count": null,
      "outputs": []
    },
    {
      "cell_type": "code",
      "metadata": {
        "id": "wTEZQIDGpjbB"
      },
      "source": [
        "per_var = np.round(pca.explained_variance_ratio_* 100, decimals=1)\n",
        "labels_all = ['PC'+str(x) for x in range(1, len(per_var)+1)]\n",
        "per_var=per_var[:10]\n",
        "labels = [str(x) for x in range(1, len(per_var)+1)]\n",
        "\n",
        "with plt.style.context('dark_background'):\n",
        "    plt.figure(figsize = (15, 9))\n",
        "    plt.xlabel(\"Number of Principal Components\")\n",
        "    plt.ylabel(\"Percentage of variance explained\")\n",
        "    plt.bar(range(1,len(per_var)+1), per_var, tick_label=labels, color = \"aqua\")\n",
        "    plt.plot(range(1,len(per_var)+1), np.cumsum(per_var), color = \"red\")\n",
        "    plt.scatter(range(1,len(per_var)+1), np.cumsum(per_var), color = \"yellow\")"
      ],
      "execution_count": null,
      "outputs": []
    },
    {
      "cell_type": "markdown",
      "metadata": {
        "id": "W_w644b-ptLV"
      },
      "source": [
        "The first principal component should be able to capture close to 30% of the variance in the dataset."
      ]
    },
    {
      "cell_type": "code",
      "metadata": {
        "id": "edpEBZXSpjd2"
      },
      "source": [
        "final_df = pd.DataFrame(columns=[\"StrainID\", \"PC1\", \"PC2\", \"State\"])\n",
        "pca_df = pd.DataFrame(pca_data, index=[*samplelist], columns = labels_all)\n",
        "\n",
        "for sample in pca_df.index:\n",
        "\n",
        "    dicti = dict()\n",
        "\n",
        "    dicti[\"StrainID\"] = sample\n",
        "    dicti[\"PC1\"] = pca_df.PC1.loc[sample]\n",
        "    dicti[\"PC2\"] = pca_df.PC2.loc[sample]\n",
        "    dicti[\"State\"] = data[data[\"StrainID\"]==sample][\"State\"].tolist()[0]\n",
        "\n",
        "    final_df = pd.concat([final_df, pd.DataFrame([dicti])], ignore_index=True)\n",
        "\n",
        "final_df.tail()"
      ],
      "execution_count": null,
      "outputs": []
    },
    {
      "cell_type": "code",
      "metadata": {
        "id": "1TTC9hCppjgp"
      },
      "source": [
        "for_x = final_df.PC1.tolist()\n",
        "for_y = final_df.PC2.tolist()\n",
        "for_states = final_df.State.tolist()\n",
        "for_hover = final_df.StrainID.tolist()\n",
        "\n",
        "fig = px.scatter(x=for_x, y=for_y, color=for_states, height=600, width=1200,\n",
        "                 title=\"Principal Component Axis\",\n",
        "                color_discrete_map={\n",
        "                \"Stateless\": \"grey\",\n",
        "                \"Tamil Nadu\": \"green\",\n",
        "                \"Telangana\": \"red\",\n",
        "                \"Maharashtra\": \"orange\",\n",
        "                \"Gujarat\": \"magenta\",\n",
        "                \"Delhi\": \"purple\",\n",
        "                \"West Bengal\": \"aqua\",\n",
        "                \"Haryana\": \"pink\",\n",
        "                \"Odisha\": \"blue\",\n",
        "                \"Madhya Pradesh\": \"brown\",\n",
        "                \"Karnataka\": \"black\"})\n",
        "fig.show(renderer = 'colab')"
      ],
      "execution_count": null,
      "outputs": []
    }
  ]
}