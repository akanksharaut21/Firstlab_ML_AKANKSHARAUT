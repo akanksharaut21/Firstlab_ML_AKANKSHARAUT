{
  "nbformat": 4,
  "nbformat_minor": 0,
  "metadata": {
    "colab": {
      "provenance": [],
      "mount_file_id": "1piKUDVqiCUtEPtWBzDBZb33J3i-NvERh",
      "authorship_tag": "ABX9TyP/mDWLRve4XKZqn7tbckiS",
      "include_colab_link": true
    },
    "kernelspec": {
      "name": "python3",
      "display_name": "Python 3"
    },
    "language_info": {
      "name": "python"
    }
  },
  "cells": [
    {
      "cell_type": "markdown",
      "metadata": {
        "id": "view-in-github",
        "colab_type": "text"
      },
      "source": [
        "<a href=\"https://colab.research.google.com/github/akanksharaut21/Firstlab_ML_AKANKSHARAUT/blob/main/First_lab_ML_Akanksha_Raut.ipynb\" target=\"_parent\"><img src=\"https://colab.research.google.com/assets/colab-badge.svg\" alt=\"Open In Colab\"/></a>"
      ]
    },
    {
      "cell_type": "code",
      "execution_count": null,
      "metadata": {
        "id": "w9AufFl6rZst"
      },
      "outputs": [],
      "source": [
        "#Quetion 00\n",
        "'''Write down 3-5 methods applicable to each data type. (Hint: extend, reverse, etc.)\n",
        "ANS:- For *list its {append, insert, remove, sort}\n",
        "*String {upper, lover, replace, split}\n",
        "*Dictionaries {get, keys, values, items}\n",
        "*Tuples {index, count, len}"
      ]
    },
    {
      "cell_type": "code",
      "source": [
        "#Quetion 01\n",
        "def reverse_and_concatenate(A, B):\n",
        "    reversed_A = A[::-1]\n",
        "    result = reversed_A + B\n",
        "    return result\n",
        "\n",
        "string_A = \"Hello\"\n",
        "string_B = \"World\"\n",
        "result = reverse_and_concatenate(string_A, string_B)\n",
        "print(result)"
      ],
      "metadata": {
        "colab": {
          "base_uri": "https://localhost:8080/"
        },
        "id": "oFfVVOmhroHa",
        "outputId": "4d91e1a9-d857-4132-8d2a-b9e79d64117b"
      },
      "execution_count": null,
      "outputs": [
        {
          "output_type": "stream",
          "name": "stdout",
          "text": [
            "olleHWorld\n"
          ]
        }
      ]
    },
    {
      "cell_type": "code",
      "source": [
        "#Quetion 02\n",
        "def find_highest_working_female(work_hours, hourly_rate=20):\n",
        "    max_hours = 0\n",
        "    female_worker = None\n",
        "\n",
        "    for name, hours, gender in work_hours:\n",
        "        if gender == 'F' and hours > max_hours:\n",
        "            max_hours = hours\n",
        "            female_worker = name\n",
        "\n",
        "    if female_worker:\n",
        "        pay = max_hours * hourly_rate\n",
        "        return f\"The female who worked  most hours is {female_worker} with {max_hours} hours. She paid ${pay}.\"\n",
        "    else:\n",
        "        return \"No female workers found.\"\n",
        "\n",
        "work_hours = [('Abby', 100, 'F'), ('Billy', 400, 'M'), ('Cassie', 800, 'F'), ('Maggi', 600, 'F'), ('Alex', 500, 'M'), ('Raj', 225, 'M'), ('Penny', 920, 'F'), ('Ben', 300, 'M')]\n",
        "\n",
        "result = find_highest_working_female(work_hours)\n",
        "print(result)"
      ],
      "metadata": {
        "colab": {
          "base_uri": "https://localhost:8080/"
        },
        "id": "fUVnvxk1r0xp",
        "outputId": "3e4fd63b-c3c9-4a90-efce-89a5d2f75dc6"
      },
      "execution_count": null,
      "outputs": [
        {
          "output_type": "stream",
          "name": "stdout",
          "text": [
            "The female who worked  most hours is Penny with 920 hours. She paid $18400.\n"
          ]
        }
      ]
    },
    {
      "cell_type": "code",
      "source": [
        "#Quetion 03 A\n",
        "import numpy as np\n",
        "\n",
        "base_matrix = np.array([[1, 1], [2, 2]])\n",
        "\n",
        "matrix = np.tile(base_matrix, (2, 2))\n",
        "\n",
        "print(matrix)"
      ],
      "metadata": {
        "colab": {
          "base_uri": "https://localhost:8080/"
        },
        "id": "UIrZglQGsAd4",
        "outputId": "494a2749-4ebc-4d1d-9552-a2d8ca7211f1"
      },
      "execution_count": null,
      "outputs": [
        {
          "output_type": "stream",
          "name": "stdout",
          "text": [
            "[[1 1 1 1]\n",
            " [2 2 2 2]\n",
            " [1 1 1 1]\n",
            " [2 2 2 2]]\n"
          ]
        }
      ]
    },
    {
      "cell_type": "code",
      "source": [
        "#B\n",
        "import numpy as np\n",
        "\n",
        "matrix1 = np.array([[1, 2], [3, 4]])\n",
        "matrix2 = np.array([[5, 6], [7, 8]])\n",
        "\n",
        "if matrix1.shape[1] == matrix2.shape[0]:\n",
        "    dot_product = np.dot(matrix1, matrix2)\n",
        "    print(\"Dot Product Result:\")\n",
        "    print(dot_product)\n",
        "else:\n",
        "    print(\"Matrix dimensions are not compatible for dot product.\")"
      ],
      "metadata": {
        "colab": {
          "base_uri": "https://localhost:8080/"
        },
        "id": "rmS1H7W1sGd7",
        "outputId": "823ebbdf-1e55-427f-a6e3-365608b8e477"
      },
      "execution_count": null,
      "outputs": [
        {
          "output_type": "stream",
          "name": "stdout",
          "text": [
            "Dot Product Result:\n",
            "[[19 22]\n",
            " [43 50]]\n"
          ]
        }
      ]
    },
    {
      "cell_type": "code",
      "source": [
        "#Import a image through drive\n",
        "import numpy as np\n",
        "import cv2\n",
        "img = cv2.imread(\"/content/sample_data/ML.jpg\")"
      ],
      "metadata": {
        "id": "q33uqvTKsNFm"
      },
      "execution_count": 9,
      "outputs": []
    }
  ]
}